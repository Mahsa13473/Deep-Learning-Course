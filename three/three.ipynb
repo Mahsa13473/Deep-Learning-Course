{
  "nbformat": 4,
  "nbformat_minor": 0,
  "metadata": {
    "accelerator": "GPU",
    "colab": {
      "name": "colab2.ipynb",
      "provenance": [],
      "collapsed_sections": []
    },
    "kernelspec": {
      "display_name": "Python 3",
      "language": "python",
      "name": "python3"
    },
    "language_info": {
      "codemirror_mode": {
        "name": "ipython",
        "version": 3
      },
      "file_extension": ".py",
      "mimetype": "text/x-python",
      "name": "python",
      "nbconvert_exporter": "python",
      "pygments_lexer": "ipython3",
      "version": "3.7.6"
    }
  },
  "cells": [
    {
      "cell_type": "markdown",
      "metadata": {
        "id": "i3tjmfgNU-pv"
      },
      "source": [
        "# Deep Learning Course \n",
        "\n",
        "## Assignment 3 \n",
        "\n",
        "### Assignment Goals:\n",
        "\n",
        "* Implementing and improving RNN based language models.\n",
        "* Implementing and applying a Recurrent Neural Network on text classification problem.\n",
        "\n",
        "\n",
        "In this assignment, you will implement RNN-based language models and compare extracted word representation from different models. You will also compare two different training methods for sequential data: Truncated Backpropagation Through Time __(TBTT)__ and Backpropagation Through Time __(BTT)__. \n",
        "Also, you will be asked to apply Vanilla RNN to capture word representations and solve a text classification problem. \n"
      ]
    },
    {
      "cell_type": "markdown",
      "metadata": {
        "id": "usiY8ySxU-p4"
      },
      "source": [
        "### DataSets\n",
        "\n",
        "You will use two datasets, an English Literature dataset for language model task (part 1 to 4) and the 20Newsgroups dataset for text classification (part 5). "
      ]
    },
    {
      "cell_type": "markdown",
      "metadata": {
        "id": "R0qoO5NmU-p4"
      },
      "source": [
        "### Requirements\n",
        "\n",
        "1. **(30 points) Implement a RNN based language model.**\n",
        "\n",
        "    Implement the RNN based language model described by [Mikolov et al.](https://www.fit.vutbr.cz/research/groups/speech/publi/2010/mikolov_interspeech2010_IS100722.pdf), also called **Elman network**. The Elman network contains input, hidden and output layer and is trained by standard backpropagation (TBTT with $τ = 1$) using the cross-entropy loss. \n",
        "\n",
        "      * The input vector $x(t)$ at time $t$ consists of the current word while using 1-of-N coding (thus its size is equal to the size of the vocabulary) $w(t)$ and a vector $s(t − 1)$ which represents output values in the hidden layer from the previous time step $t-1$.\n",
        "      $$x(t) = w(t) + s(t-1)$$\n",
        "      \n",
        "      * The hidden layer is a fully connected sigmoid layer with size 500. \n",
        "      $$s_j(t) = f(\\sum_i x_i(t)u_{ji} )$$\n",
        "      Here $u$ is the parameter matrix of hidden layer, $f$ is the sigmoid activation function. \n",
        "      \n",
        "      * The softmax output layer captures a valid probability distribution.\n",
        "      $$y_k(t) = g(\\sum_j s_j(t)v_{kj})$$\n",
        "      Here $v$ is the parameter matrix of output layer, $g$ is the softmax function. \n",
        "      \n",
        "      * The model is trained with truncated backpropagation through time (TBTT) with $τ = 1$: the weights of the network are updated based on the error vector computed only for the current time step. \n",
        "      \n",
        "   Train the language model on the given English Literature dataset, report the model cross-entropy loss on the train set. Visualize the cross-entropy loss during training using a curve line. Your curve line should demonstrate that the loss value converges. \n",
        "   \n",
        "   Use nltk.word_tokenize to tokenize the documents. For initialization, $s(0)$ can be set to a vector of small values. Note that we are not interested in the *dynamic model* mentioned in the original paper. \n"
      ]
    },
    {
      "cell_type": "markdown",
      "metadata": {
        "id": "hXDYuH45U-p5"
      },
      "source": [
        "2. **(20 points) Train the Elman network with BTT.**\n",
        "\n",
        "    TBTT has less computational cost and memory needs in comparison with **backpropagation through time algorithm (BTT)**. These benefits come at the cost of losing long term dependencies ([reference](https://arxiv.org/abs/1705.08209)). TBTT is rarely used until now, we use BTT instead.\n",
        "\n",
        "    Train your implemented Elman network with BTT, then compare the computational costs and performance of BTT and TBTT training.  For training the Elman-type RNN with BTT, one option is to perform mini-batch gradient descent with exactly one sentence per mini-batch. (Hints: The input  size will be (1, Sentence Length) ). \n",
        "\n",
        "   * Split the document into sentences (you can use nltk.tokenize.sent_tokenize. The natural language toolkit (nltk) can be installed using the command 'pip install nltk').\n",
        "   * For each sentence, perform one pass that computes the mean/sum loss for this sentence; then perform a gradient update for the whole sentence. (So the mini-batch size varies for the sentences with different lengths). You can truncate long sentences to fit the data in memory. \n",
        "   * Report the model cross-entropy loss.Visualize the cross-entropy loss during training using a curve line. Your curve line should demonstrate that the loss value converges. "
      ]
    },
    {
      "cell_type": "markdown",
      "metadata": {
        "id": "4WNw40ScU-p5"
      },
      "source": [
        "3. **(30 points) Improve your Elman network with GRU.**\n",
        "\n",
        "    (a) Gated Recurrent Unit: It does not seem that simple recurrent neural networks can capture truly exploit context information with long dependencies, because of the problem of gradient vanishing and exploding. To solve this problem, gating mechanisms for recurrent neural networks were introduced. (15 points)\n",
        "\n",
        "    Try to learn your last model (Elman + BTT) with the SimpleRnn unit replaced with a **Gated Recurrent Unit (GRU)**. Report the model cross-entropy loss.  Visualize the cross-entropy loss during training using a curve line. Your curve line should demonstrate that the loss value converges. Compare your results in terms of cross-entropy loss with two other approaches (part 1 and 2). \n",
        "\n",
        "    (b) Text generation: Use each model to generate 10 synthetic sentences of 15 words each. Discuss the quality of the sentences generated - do they look like proper English? Do they match the training set? (15 points)\n",
        "    \n",
        "    Text generation from a given language model can be done using the following iterative process:\n",
        "   - Set sequence = \\[first_word\\], chosen randomly.\n",
        "   - Select a new word based on the sequence so far, add this word to the sequence, and repeat. At each iteration, select the word with maximum probability given the sequence so far. The trained language model outputs this probability. "
      ]
    },
    {
      "cell_type": "markdown",
      "metadata": {
        "id": "h-Tk13vGU-p5"
      },
      "source": [
        "4. **(20 points) Implement a text classification model.**\n",
        "\n",
        "    We are aiming to learn an RNN model that predicts document categories given its content (text classification). For this task, we will use the 20Newsgroups dataset. The 20Newsgroupst contains messages from twenty newsgroups.  We selected four major categories (comp, politics, rec, and religion) comprising around 13k documents altogether. Your model should learn word representations to support the classification task. For solving this problem modify the **Elman network** architecture and simple RNN such that the last layer is a softmax layer with just 4 output neurons (one for each category). \n",
        "\n",
        "    * Download the 20Newsgroups dataset, and use the below helper function data_loader() to read in the dataset.\n",
        "    * Split the data into a training set (90%) and validation set (10%). \n",
        "    * Implement your text classification model, and train the model on 20Newsgroups training set.\n",
        "    * Report your accuracy results on the validation set. Try to achieve $\\geq 80\\%$ validation accuracy. (5 points) "
      ]
    },
    {
      "cell_type": "markdown",
      "metadata": {
        "id": "bgNTo0i0U-p6"
      },
      "source": [
        "### Submission Notes\n",
        "\n",
        "Please use Jupyter Notebook. The notebook should include the final code, results and your answers. You should submit your Notebook in (.pdf or .html) and .ipynb format. (penalty 10 points) \n",
        "\n",
        "To reduce the parameters, you can merge all words that occur less often than a threshold into a special rare token (\\__unk__).\n",
        "\n",
        "**Instructions：**\n",
        "\n",
        "The university policy on academic dishonesty and plagiarism (cheating) will be taken very seriously in this course. Everything submitted should be your own writing or coding. You must not let other students copy your work. Spelling and grammar count.\n",
        "\n",
        "Your assignments will be marked based on correctness, originality (the implementations and ideas are from yourself), and test performance.\n",
        "\n"
      ]
    },
    {
      "cell_type": "markdown",
      "metadata": {
        "id": "7ufJEqlfU-p6"
      },
      "source": [
        "## Your Implementation"
      ]
    },
    {
      "cell_type": "code",
      "metadata": {
        "colab": {
          "base_uri": "https://localhost:8080/"
        },
        "id": "-OJ3GPbuVHxi",
        "outputId": "696508d9-7b4a-4226-f039-525a276e92cb"
      },
      "source": [
        "from google.colab import drive\n",
        "drive.mount(\"/content/gdrive\")"
      ],
      "execution_count": 1,
      "outputs": [
        {
          "output_type": "stream",
          "text": [
            "Mounted at /content/gdrive\n"
          ],
          "name": "stdout"
        }
      ]
    },
    {
      "cell_type": "code",
      "metadata": {
        "colab": {
          "base_uri": "https://localhost:8080/"
        },
        "id": "iV6FYdxqVKwm",
        "outputId": "43b50958-c352-40c4-ef55-c991d96d667a"
      },
      "source": [
        "import tensorflow as tf\n",
        "\n",
        "# use GPU\n",
        "device_name = tf.test.gpu_device_name()\n",
        "\n",
        "if device_name != '/device:GPU:0':\n",
        "  raise SystemError('GPU device not found')\n",
        "print('Found GPU at: {}'.format(device_name))\n",
        "\n",
        "colab_path = '/content/gdrive/MyDrive/'"
      ],
      "execution_count": 2,
      "outputs": [
        {
          "output_type": "stream",
          "text": [
            "Found GPU at: /device:GPU:0\n"
          ],
          "name": "stdout"
        }
      ]
    },
    {
      "cell_type": "code",
      "metadata": {
        "id": "QcM2aCceU-p6"
      },
      "source": [
        "import tensorflow as tf\n",
        "from tensorflow import keras\n",
        "import numpy as np\n",
        "from sklearn.model_selection import train_test_split\n",
        "from sklearn.preprocessing import OneHotEncoder\n",
        "from tensorflow.python.keras.utils.data_utils import Sequence\n",
        "from keras.preprocessing.text import Tokenizer\n",
        "from keras.preprocessing.sequence import pad_sequences\n",
        "from keras.utils.np_utils import to_categorical\n",
        "from tensorflow.keras import layers\n",
        "from collections import Counter\n",
        "import matplotlib.pyplot as plt\n",
        "import os\n",
        "import os.path\n",
        "import glob\n",
        "import string\n",
        "import nltk\n",
        "# nltk.download()\n",
        "\n",
        "tf.random.set_seed(0)\n",
        "np.random.seed(0)"
      ],
      "execution_count": 3,
      "outputs": []
    },
    {
      "cell_type": "markdown",
      "metadata": {
        "id": "BLfYTv3KU-p7"
      },
      "source": [
        "### 1. Implement a RNN based language model"
      ]
    },
    {
      "cell_type": "markdown",
      "metadata": {
        "id": "0_0_WVO2U-p8"
      },
      "source": [
        "Data Preprocessing"
      ]
    },
    {
      "cell_type": "code",
      "metadata": {
        "colab": {
          "base_uri": "https://localhost:8080/"
        },
        "id": "eqhjexa9U-p8",
        "outputId": "fc918bcc-4346-4bb4-909a-b1445f19314d"
      },
      "source": [
        "path = 'English Literature.txt'\n",
        "\n",
        "# path = colab_path + path\n",
        "\n",
        "# read file\n",
        "with open(path, encoding = 'utf-8') as f:\n",
        "    text = f.read()\n",
        "\n",
        "\n",
        "# handle lower case\n",
        "text = text.lower()\n",
        "\n",
        "# handle punctuation\n",
        "# punctuations = '''!()-[]{};:'\"\\,<>./?@#$%^&*_~'''\n",
        " \n",
        "# no_punc = \"\"\n",
        "# for char in text:\n",
        "#     if char not in punctuations:\n",
        "#         no_punc = no_punc + char\n",
        "# text = no_punc\n",
        "\n",
        "# tokenizer = nltk.RegexpTokenizer(r\"\\w+\")\n",
        "# new_words = tokenizer.tokenize(sentence)\n",
        "\n",
        "tokens = nltk.word_tokenize(text)\n",
        "cleaned_tokens = tokens\n",
        "\n",
        "# build vocablary\n",
        "# represent rare words by unkown token\n",
        "min_count = 0 # 1 # threshold for rare words \n",
        "# I set min_count to 0 to disable this feature\n",
        "unknown_token = '<unk>' # __unk__\n",
        "word2index = {unknown_token: 0}\n",
        "index2word = [unknown_token]\n",
        "\n",
        "filtered_words = 0\n",
        "counter = Counter(cleaned_tokens)\n",
        "\n",
        "for word, count in counter.items():\n",
        "    if count > min_count:\n",
        "        index2word.append(word)\n",
        "        word2index[word] = len(word2index)\n",
        "    else:\n",
        "        filtered_words += 1\n",
        "\n",
        "num_words = len(word2index)\n",
        "\n",
        "print('vocabulary size: ', num_words)\n",
        "print('filtered words: ', filtered_words)\n",
        "\n",
        "\n",
        "# convert list of strings(tokens) to list of integers\n",
        "data_sequence =[]\n",
        "for t in tokens:\n",
        "    if t in index2word:\n",
        "        data_sequence.append(word2index[t])\n",
        "    else:\n",
        "        data_sequence.append(0)\n",
        "\n",
        "\n",
        "# one-hot encoding for data sequence\n",
        "data_sequence_encode = np.zeros((len(data_sequence), num_words), dtype=np.int8)\n",
        "\n",
        "for i in range(len(data_sequence)):\n",
        "    data_sequence_encode[i, data_sequence[i]] = 1\n",
        "\n",
        "\n",
        "# creating x and y\n",
        "X = []\n",
        "y = []\n",
        "\n",
        "# Iterate through the sequences of tokens\n",
        "for i in range(1, len(data_sequence)):\n",
        "        \n",
        "    X.append(data_sequence[i-1:i])\n",
        "    y.append(data_sequence_encode[i, :])\n",
        "        \n",
        "X = np.array(X)\n",
        "y = np.array(y)\n",
        "\n",
        "print(\"input shape:\", X.shape)\n",
        "print(\"output shape:\", y.shape)"
      ],
      "execution_count": null,
      "outputs": [
        {
          "output_type": "stream",
          "text": [
            "vocabulary size:  12443\n",
            "filtered words:  0\n",
            "input shape: (254521, 1)\n",
            "output shape: (254521, 12443)\n"
          ],
          "name": "stdout"
        }
      ]
    },
    {
      "cell_type": "markdown",
      "metadata": {
        "id": "0e85j1GeU-p9"
      },
      "source": [
        "Network implementation:"
      ]
    },
    {
      "cell_type": "code",
      "metadata": {
        "colab": {
          "base_uri": "https://localhost:8080/"
        },
        "id": "d92aEuizU-p9",
        "scrolled": false,
        "outputId": "7c048e1e-93c5-4fb2-c3d4-5a9aee66b356"
      },
      "source": [
        "model = keras.Sequential()\n",
        "model.add(layers.Embedding(input_dim=num_words, output_dim=500))\n",
        "model.add(layers.SimpleRNN(500, activation='sigmoid'))\n",
        "# model.add(layers.Dense(500, activation='sigmoid'))\n",
        "model.add(layers.Dense(num_words, activation=\"softmax\"))\n",
        "model.summary()"
      ],
      "execution_count": null,
      "outputs": [
        {
          "output_type": "stream",
          "text": [
            "Model: \"sequential_1\"\n",
            "_________________________________________________________________\n",
            "Layer (type)                 Output Shape              Param #   \n",
            "=================================================================\n",
            "embedding_1 (Embedding)      (None, None, 500)         6224000   \n",
            "_________________________________________________________________\n",
            "simple_rnn_1 (SimpleRNN)     (None, 500)               500500    \n",
            "_________________________________________________________________\n",
            "dense_1 (Dense)              (None, 12448)             6236448   \n",
            "=================================================================\n",
            "Total params: 12,960,948\n",
            "Trainable params: 12,960,948\n",
            "Non-trainable params: 0\n",
            "_________________________________________________________________\n"
          ],
          "name": "stdout"
        }
      ]
    },
    {
      "cell_type": "markdown",
      "metadata": {
        "id": "GrGiqSxzU-p-"
      },
      "source": [
        "Network training:"
      ]
    },
    {
      "cell_type": "code",
      "metadata": {
        "colab": {
          "base_uri": "https://localhost:8080/"
        },
        "id": "9d7tYWpJU-p-",
        "outputId": "d925917f-f89d-4ab6-d954-de1d317b2d4c"
      },
      "source": [
        "epochs = 15\n",
        "batch_size = 64\n",
        "# opt = keras.optimizers.Adam(learning_rate=0.001)\n",
        "model.compile(loss=\"categorical_crossentropy\", optimizer=\"adam\", metrics=[\"accuracy\"])\n",
        "value_epoches = model.fit(X, y, batch_size=batch_size, epochs=epochs)\n",
        "\n",
        "print(\"_________________________________________________________________\")\n",
        "score = model.evaluate(X, y, verbose=0)\n",
        "print(\"train loss:\", score[0])"
      ],
      "execution_count": null,
      "outputs": [
        {
          "output_type": "stream",
          "text": [
            "Epoch 1/15\n",
            "3977/3977 [==============================] - 250s 63ms/step - loss: 6.1693 - accuracy: 0.1120\n",
            "Epoch 2/15\n",
            "3977/3977 [==============================] - 251s 63ms/step - loss: 5.2289 - accuracy: 0.1522\n",
            "Epoch 3/15\n",
            "3977/3977 [==============================] - 253s 64ms/step - loss: 4.9552 - accuracy: 0.1655\n",
            "Epoch 4/15\n",
            "3977/3977 [==============================] - 249s 63ms/step - loss: 4.7474 - accuracy: 0.1716\n",
            "Epoch 5/15\n",
            "3977/3977 [==============================] - 248s 62ms/step - loss: 4.5719 - accuracy: 0.1770\n",
            "Epoch 6/15\n",
            "3977/3977 [==============================] - 249s 63ms/step - loss: 4.4493 - accuracy: 0.1787\n",
            "Epoch 7/15\n",
            "3977/3977 [==============================] - 249s 62ms/step - loss: 4.3529 - accuracy: 0.1803\n",
            "Epoch 8/15\n",
            "3977/3977 [==============================] - 246s 62ms/step - loss: 4.2989 - accuracy: 0.1796\n",
            "Epoch 9/15\n",
            "3977/3977 [==============================] - 246s 62ms/step - loss: 4.2577 - accuracy: 0.1825\n",
            "Epoch 10/15\n",
            "3977/3977 [==============================] - 249s 62ms/step - loss: 4.2270 - accuracy: 0.1831\n",
            "Epoch 11/15\n",
            "3977/3977 [==============================] - 247s 62ms/step - loss: 4.2127 - accuracy: 0.1819\n",
            "Epoch 12/15\n",
            "3977/3977 [==============================] - 247s 62ms/step - loss: 4.1917 - accuracy: 0.1817\n",
            "Epoch 13/15\n",
            "3977/3977 [==============================] - 248s 62ms/step - loss: 4.1765 - accuracy: 0.1831\n",
            "Epoch 14/15\n",
            "3977/3977 [==============================] - 248s 62ms/step - loss: 4.1663 - accuracy: 0.1833\n",
            "Epoch 15/15\n",
            "3977/3977 [==============================] - 248s 62ms/step - loss: 4.1555 - accuracy: 0.1840\n",
            "_________________________________________________________________\n",
            "train loss: 4.0916643142700195\n"
          ],
          "name": "stdout"
        }
      ]
    },
    {
      "cell_type": "markdown",
      "metadata": {
        "id": "sY_cYUxmU-p_"
      },
      "source": [
        "Loss visualization:"
      ]
    },
    {
      "cell_type": "code",
      "metadata": {
        "colab": {
          "base_uri": "https://localhost:8080/",
          "height": 277
        },
        "id": "a6Hy4XWJU-qA",
        "outputId": "dcf9170c-d32b-4f85-95e2-a001b01e1978"
      },
      "source": [
        "plt.plot(value_epoches.history['loss'],label=\"loss\")\n",
        "plt.xlabel(\"epoch\")\n",
        "plt.ylabel(\"loss\")\n",
        "plt.show()"
      ],
      "execution_count": null,
      "outputs": [
        {
          "output_type": "display_data",
          "data": {
            "image/png": "[encoded data removed]",
            "text/plain": [
              "<Figure size 432x288 with 1 Axes>"
            ]
          },
          "metadata": {
            "tags": [],
            "needs_background": "light"
          }
        }
      ]
    },
    {
      "cell_type": "markdown",
      "metadata": {
        "id": "Ljfuuw2xU-qA"
      },
      "source": [
        "### 2. Train the Elman network with BTT"
      ]
    },
    {
      "cell_type": "markdown",
      "metadata": {
        "id": "FkO4SH_zU-qB"
      },
      "source": [
        "Data Preprocessing"
      ]
    },
    {
      "cell_type": "code",
      "metadata": {
        "colab": {
          "base_uri": "https://localhost:8080/"
        },
        "id": "4ZyJKVYLU-qB",
        "outputId": "b3d5c5eb-6953-4125-ecf2-3f4f3cb419ea"
      },
      "source": [
        "path = 'English Literature.txt'\n",
        "# path = colab_path + path\n",
        "\n",
        "# read file\n",
        "with open(path, encoding = 'utf-8') as f:\n",
        "    text = f.read()\n",
        "\n",
        "\n",
        "# handle lower case\n",
        "text = text.lower()\n",
        "\n",
        "# this gives us a list of sentences\n",
        "sen_text = nltk.tokenize.sent_tokenize(text)\n",
        "\n",
        "max_sen_length = 40 # It can be higher but I had RAM constraintd on google colab\n",
        "\n",
        "X = []\n",
        "y = []\n",
        "# now loop over each sentence and tokenize it separately\n",
        "for sentence in sen_text:\n",
        "    tokenized_text = nltk.word_tokenize(sentence)\n",
        "    seq = []\n",
        "\n",
        "    for w in tokenized_text:\n",
        "        if w in index2word:\n",
        "            index = word2index[w]\n",
        "        else:\n",
        "            index = 0 # unknown\n",
        "        seq.append(index)\n",
        "        \n",
        "    seq = np.asarray(seq)\n",
        "    X.append(seq[:-1])\n",
        "    y.append(seq[1:])\n",
        "\n",
        "X = np.asarray(X)\n",
        "y = np.asarray(y)\n",
        "\n",
        "\n",
        "# https://www.tensorflow.org/guide/keras/masking_and_padding\n",
        "X = tf.keras.preprocessing.sequence.pad_sequences(X, maxlen=max_sen_length, padding=\"post\", truncating = 'post')\n",
        "y = tf.keras.preprocessing.sequence.pad_sequences(y, maxlen=max_sen_length, padding=\"post\", truncating = 'post')\n",
        "y = tf.keras.utils.to_categorical(y, num_words)\n",
        "\n",
        "X = np.expand_dims(X, axis=-1)\n",
        "\n",
        "print(\"input shape:\", X.shape)\n",
        "print(\"output shape:\", y.shape)\n"
      ],
      "execution_count": null,
      "outputs": [
        {
          "output_type": "stream",
          "text": [
            "/Users/mahsa/anaconda3/envs/cmpt728/lib/python3.7/site-packages/numpy/core/_asarray.py:83: VisibleDeprecationWarning: Creating an ndarray from ragged nested sequences (which is a list-or-tuple of lists-or-tuples-or ndarrays with different lengths or shapes) is deprecated. If you meant to do this, you must specify 'dtype=object' when creating the ndarray\n",
            "  return array(a, dtype, copy=False, order=order)\n"
          ],
          "name": "stderr"
        },
        {
          "output_type": "stream",
          "text": [
            "input shape: (12449, 40, 1)\n",
            "output shape: (12449, 40, 12443)\n"
          ],
          "name": "stdout"
        }
      ]
    },
    {
      "cell_type": "code",
      "metadata": {
        "id": "OV1HbXxCU-qB"
      },
      "source": [
        "model2 = keras.Sequential()\n",
        "model2.add(layers.Embedding(num_words, max_sen_length, input_length=max_sen_length, mask_zero=True))\n",
        "model2.add(layers.Masking(mask_value=0))\n",
        "model2.add(layers.SimpleRNN(500, batch_input_shape=(1, max_sen_length, num_words), return_sequences=True, activation='sigmoid'))\n",
        "# model2.add(layers.Dense(500, activation='sigmoid'))\n",
        "model2.add(layers.TimeDistributed(layers.Dense(num_words, activation=\"softmax\")))\n",
        "# model2.summary()"
      ],
      "execution_count": null,
      "outputs": []
    },
    {
      "cell_type": "code",
      "metadata": {
        "colab": {
          "base_uri": "https://localhost:8080/"
        },
        "id": "q1tcM8zeU-qC",
        "outputId": "af282987-4e37-4ab5-c80f-7f38a03f4447"
      },
      "source": [
        "epochs = 15\n",
        "batch_size = 64\n",
        "\n",
        "# opt = keras.optimizers.Adam(learning_rate=0.001)\n",
        "model2.compile(loss=\"categorical_crossentropy\", optimizer=\"adam\", metrics=[\"accuracy\"])\n",
        "value_epoches2 = model2.fit(X, y, batch_size=batch_size, epochs=epochs)\n",
        "\n",
        "print(\"_________________________________________________________________\")\n",
        "score = model2.evaluate(X, y, verbose=0)\n",
        "print(\"train loss:\", score[0])"
      ],
      "execution_count": null,
      "outputs": [
        {
          "output_type": "stream",
          "text": [
            "Epoch 1/15\n",
            "195/195 [==============================] - 258s 1s/step - loss: 4.1758 - accuracy: 0.5483\n",
            "Epoch 2/15\n",
            "195/195 [==============================] - 251s 1s/step - loss: 2.5551 - accuracy: 0.6185\n",
            "Epoch 3/15\n",
            "195/195 [==============================] - 258s 1s/step - loss: 2.3994 - accuracy: 0.6302\n",
            "Epoch 4/15\n",
            "195/195 [==============================] - 302s 2s/step - loss: 2.2839 - accuracy: 0.6384\n",
            "Epoch 5/15\n",
            "195/195 [==============================] - 256s 1s/step - loss: 2.2448 - accuracy: 0.6383\n",
            "Epoch 6/15\n",
            "195/195 [==============================] - 242s 1s/step - loss: 2.2107 - accuracy: 0.6388\n",
            "Epoch 7/15\n",
            "195/195 [==============================] - 234s 1s/step - loss: 2.1681 - accuracy: 0.6417\n",
            "Epoch 8/15\n",
            "195/195 [==============================] - 232s 1s/step - loss: 2.1226 - accuracy: 0.6456\n",
            "Epoch 9/15\n",
            "195/195 [==============================] - 231s 1s/step - loss: 2.0797 - accuracy: 0.6491\n",
            "Epoch 10/15\n",
            "195/195 [==============================] - 237s 1s/step - loss: 2.0406 - accuracy: 0.6518\n",
            "Epoch 11/15\n",
            "195/195 [==============================] - 231s 1s/step - loss: 2.0157 - accuracy: 0.6531\n",
            "Epoch 12/15\n",
            "195/195 [==============================] - 236s 1s/step - loss: 1.9769 - accuracy: 0.6550\n",
            "Epoch 13/15\n",
            "195/195 [==============================] - 243s 1s/step - loss: 1.9578 - accuracy: 0.6552\n",
            "Epoch 14/15\n",
            "195/195 [==============================] - 230s 1s/step - loss: 1.9174 - accuracy: 0.6580\n",
            "Epoch 15/15\n",
            "195/195 [==============================] - 231s 1s/step - loss: 1.8700 - accuracy: 0.6622\n",
            "_________________________________________________________________\n",
            "train loss: 1.8414503335952759\n"
          ],
          "name": "stdout"
        }
      ]
    },
    {
      "cell_type": "code",
      "metadata": {
        "colab": {
          "base_uri": "https://localhost:8080/",
          "height": 277
        },
        "id": "vlX5P-aCU-qD",
        "outputId": "4bc9c50f-f646-4d36-f7b3-ca3d2449ee46"
      },
      "source": [
        "plt.plot(value_epoches2.history['loss'],label=\"loss\")\n",
        "plt.xlabel(\"epoch\")\n",
        "plt.ylabel(\"loss\")\n",
        "plt.show()"
      ],
      "execution_count": null,
      "outputs": [
        {
          "output_type": "display_data",
          "data": {
            "image/png": "[encoded data removed]",
            "text/plain": [
              "<Figure size 432x288 with 1 Axes>"
            ]
          },
          "metadata": {
            "tags": [],
            "needs_background": "light"
          }
        }
      ]
    },
    {
      "cell_type": "markdown",
      "metadata": {
        "id": "fgh9aV2YU-qD"
      },
      "source": [
        "### 3. Improve your Elman network with GRU"
      ]
    },
    {
      "cell_type": "markdown",
      "metadata": {
        "id": "RshPtCuGU-qD"
      },
      "source": [
        "#### (a) Gated Recurrent Unit:"
      ]
    },
    {
      "cell_type": "code",
      "metadata": {
        "id": "VjLFSN84U-qE"
      },
      "source": [
        "model3 = keras.Sequential()\n",
        "model3.add(layers.Embedding(num_words, max_sen_length, input_length=max_sen_length, mask_zero=True))\n",
        "model3.add(layers.Masking(mask_value=0))\n",
        "model3.add(layers.GRU(500, batch_input_shape=(1, max_sen_length, num_words), return_sequences=True, activation='sigmoid'))\n",
        "# model3.add(layers.Dense(500, activation='sigmoid'))\n",
        "model3.add(layers.TimeDistributed(layers.Dense(num_words, activation=\"softmax\")))\n",
        "# model3.summary()"
      ],
      "execution_count": null,
      "outputs": []
    },
    {
      "cell_type": "code",
      "metadata": {
        "id": "LLL9UGUyU-qE",
        "outputId": "36727244-b3c3-469c-b8a1-91065790b62d"
      },
      "source": [
        "epochs = 15\n",
        "batch_size = 64\n",
        "\n",
        "# opt = keras.optimizers.Adam(learning_rate=0.001)\n",
        "\n",
        "model3.compile(loss=\"categorical_crossentropy\", optimizer=\"adam\", metrics=[\"accuracy\"])\n",
        "value_epoches3 = model3.fit(X, y, batch_size=batch_size, epochs=epochs)\n",
        "\n",
        "print(\"_________________________________________________________________\")\n",
        "score = model3.evaluate(X, y, verbose=0)\n",
        "print(\"train loss:\", score[0])\n",
        "# print(\"train accuracy:\", score[1])"
      ],
      "execution_count": null,
      "outputs": [
        {
          "output_type": "stream",
          "text": [
            "Epoch 1/15\n",
            "195/195 [==============================] - 266s 1s/step - loss: 4.1140 - accuracy: 0.5365\n",
            "Epoch 2/15\n",
            "195/195 [==============================] - 256s 1s/step - loss: 2.5552 - accuracy: 0.6225\n",
            "Epoch 3/15\n",
            "195/195 [==============================] - 256s 1s/step - loss: 2.4331 - accuracy: 0.6299\n",
            "Epoch 4/15\n",
            "195/195 [==============================] - 257s 1s/step - loss: 2.3246 - accuracy: 0.6378\n",
            "Epoch 5/15\n",
            "195/195 [==============================] - 310s 2s/step - loss: 2.2685 - accuracy: 0.6381\n",
            "Epoch 6/15\n",
            "195/195 [==============================] - 292s 1s/step - loss: 2.2199 - accuracy: 0.6388\n",
            "Epoch 7/15\n",
            "195/195 [==============================] - 288s 1s/step - loss: 2.1679 - accuracy: 0.6424\n",
            "Epoch 8/15\n",
            "195/195 [==============================] - 312s 2s/step - loss: 2.1176 - accuracy: 0.6455\n",
            "Epoch 9/15\n",
            "195/195 [==============================] - 310s 2s/step - loss: 2.0712 - accuracy: 0.6497\n",
            "Epoch 10/15\n",
            "195/195 [==============================] - 308s 2s/step - loss: 2.0278 - accuracy: 0.6517\n",
            "Epoch 11/15\n",
            "195/195 [==============================] - 284s 1s/step - loss: 1.9967 - accuracy: 0.6533\n",
            "Epoch 12/15\n",
            "195/195 [==============================] - 298s 2s/step - loss: 1.9516 - accuracy: 0.6557\n",
            "Epoch 13/15\n",
            "195/195 [==============================] - 291s 1s/step - loss: 1.9259 - accuracy: 0.6570\n",
            "Epoch 14/15\n",
            "195/195 [==============================] - 294s 2s/step - loss: 1.8767 - accuracy: 0.6599\n",
            "Epoch 15/15\n",
            "195/195 [==============================] - 291s 1s/step - loss: 1.8220 - accuracy: 0.6649\n",
            "_________________________________________________________________\n",
            "train loss: 1.7835643291473389\n"
          ],
          "name": "stdout"
        }
      ]
    },
    {
      "cell_type": "code",
      "metadata": {
        "id": "WyqbeTP_U-qE",
        "outputId": "5963b8ab-5472-49f2-8f8a-60d8bcec92ea"
      },
      "source": [
        "plt.plot(value_epoches3.history['loss'],label=\"loss\")\n",
        "plt.xlabel(\"epoch\")\n",
        "plt.ylabel(\"loss\")\n",
        "plt.show()"
      ],
      "execution_count": null,
      "outputs": [
        {
          "output_type": "display_data",
          "data": {
            "image/png": "[encoded data removed]",
            "text/plain": [
              "<Figure size 432x288 with 1 Axes>"
            ]
          },
          "metadata": {
            "tags": [],
            "needs_background": "light"
          }
        }
      ]
    },
    {
      "cell_type": "markdown",
      "metadata": {
        "id": "enO01cQHU-qE"
      },
      "source": [
        "#### (b) Text generation:"
      ]
    },
    {
      "cell_type": "markdown",
      "metadata": {
        "id": "XeSZcI7bbBbo"
      },
      "source": [
        "The quality isn't very high quality and I could train the network for longer time if I have more time to get the better results. But somehow some parts of sentences look like proper english. In general, model 2 and 3 are better since they consider long term dependencies and you can see some parts of generated sequences have a proper structure. Some parts match the training set."
      ]
    },
    {
      "cell_type": "code",
      "metadata": {
        "id": "znb3XNPzU-qF"
      },
      "source": [
        "from numpy import random\n",
        "import tensorflow as tf\n",
        "tf.random.set_seed(0)\n",
        "np.random.seed(0)\n",
        "\n",
        "\n",
        "def check_prediction(model, n_sentence, n_words):\n",
        "    \n",
        "    for i in range(n_sentence):\n",
        "        seq = []\n",
        "        seq_print = ''\n",
        "        index = random.randint(num_words-1)+1\n",
        "        first_word = index2word[index]\n",
        "        seq.append(first_word)\n",
        "        seq_print += first_word + ' '\n",
        "        x = np.array([index])\n",
        "        \n",
        "        for j in range(1, n_words):\n",
        "            prediction = model.predict(x[np.newaxis, :], verbose = 0)\n",
        "            index = np.argmax(prediction)\n",
        "            next_word = index2word[index]\n",
        "            seq_print += next_word + ' '\n",
        "            x = np.array([index])\n",
        "        \n",
        "        print(seq_print)\n",
        "        \n",
        "def check_prediction_seq(model, n_sentence, n_words):\n",
        "    \n",
        "    for i in range(n_sentence):\n",
        "        indices = []\n",
        "        seq_print = ''\n",
        "        index = random.randint(num_words-1)+1\n",
        "        seq = [[index]]\n",
        "        indices = [index]\n",
        "        x = tf.keras.preprocessing.sequence.pad_sequences(seq, maxlen=max_sen_length, padding=\"post\", truncating = 'post')\n",
        "        first_word = index2word[index]\n",
        "        seq.append(first_word)\n",
        "        seq_print += first_word + ' '\n",
        "        \n",
        "        for j in range(1, n_words):\n",
        "            prediction = model.predict(x, verbose = 0)\n",
        "            next_p = prediction[0, j-1, :]\n",
        "            index = np.argmax(next_p)\n",
        "            next_word = index2word[index]\n",
        "            seq_print += next_word + ' '\n",
        "            x = np.array([index])\n",
        "            indices.append(index)\n",
        "            seq = [indices]\n",
        "            x = tf.keras.preprocessing.sequence.pad_sequences(seq, maxlen=max_sen_length, padding=\"post\", truncating = 'post')\n",
        "        \n",
        "        print(seq_print)\n"
      ],
      "execution_count": null,
      "outputs": []
    },
    {
      "cell_type": "code",
      "metadata": {
        "colab": {
          "base_uri": "https://localhost:8080/"
        },
        "id": "q-PSG2IKmxlN",
        "outputId": "93258ced-23d8-424d-dd9f-232e5a0db535"
      },
      "source": [
        "# model 1: generate 10 synthetic sentences of 15 words\n",
        "print(\"Model 1: 10 synthetic sentences of 15 words:\\n\")\n",
        "check_prediction(model, n_sentence = 10, n_words = 15)"
      ],
      "execution_count": null,
      "outputs": [
        {
          "output_type": "stream",
          "text": [
            "Model 1: 10 synthetic sentences of 15 words:\n",
            "\n",
            "yawn , and , and , and , and , and , and , and \n",
            "governs lord , and , and , and , and , and , and , \n",
            "freed . king richard iii : i am i am i am i am i \n",
            "forward , and , and , and , and , and , and , and \n",
            "bade me , and , and , and , and , and , and , \n",
            "amazon . king richard iii : i am i am i am i am i \n",
            "clears , and , and , and , and , and , and , and \n",
            "honesty , and , and , and , and , and , and , and \n",
            "prelate bishop of the king richard iii : i am i am i am i \n",
            "signories it is the king richard iii : i am i am i am i \n"
          ],
          "name": "stdout"
        }
      ]
    },
    {
      "cell_type": "code",
      "metadata": {
        "colab": {
          "base_uri": "https://localhost:8080/",
          "height": 340
        },
        "id": "yjUCOQoMmzGc",
        "outputId": "92fe9968-9690-4247-f9ce-c23e39c1e9d6"
      },
      "source": [
        "# model 2: generate 10 synthetic sentences of 15 words\n",
        "print(\"Model 2: 10 synthetic sentences of 15 words:\\n\")\n",
        "check_prediction_seq(model2, n_sentence = 10, n_words = 15)"
      ],
      "execution_count": null,
      "outputs": [
        {
          "output_type": "stream",
          "text": [
            "Model 2: 10 synthetic sentences of 15 words:\n",
            "\n",
            "milder , i 'll be a man , and i 'll be a man , \n",
            "arrests , i 'll be a man , and i 'll be a man , \n",
            "conceiving you , sir , i 'll be a man , and i 'll be \n",
            "to-day , i 'll be a man , and i 'll be a man , \n",
            "oxford : i 'll be a man , and i 'll be a man , \n",
            "hitherto , and i am a man , and i am a man , and \n",
            "rote and i 'll be a man , and i 'll be a man , \n",
            "injured me , and i am not to be a man , and i 'll \n",
            "guildfords are a man , and i am not to be a man , and \n",
            "forest , i 'll be a man , and i 'll be a man , \n"
          ],
          "name": "stdout"
        }
      ]
    },
    {
      "cell_type": "code",
      "metadata": {
        "id": "4KJlKTXdmzlq",
        "outputId": "e3ec0aac-4d88-4e92-ce61-10f5979a2489"
      },
      "source": [
        "# model 3: generate 10 synthetic sentences of 15 words\n",
        "print(\"Model 3: 10 synthetic sentences of 15 words:\\n\")\n",
        "check_prediction_seq(model3, n_sentence = 10, n_words = 15)"
      ],
      "execution_count": null,
      "outputs": [
        {
          "output_type": "stream",
          "text": [
            "Model 3: 10 synthetic sentences of 15 words:\n",
            "\n",
            "milder , i 'll not be a man . ' the world , and the \n",
            "arrests , i 'll not be a man . ' the world , and the \n",
            "conceiving you , my lord , and i 'll be a king , and , \n",
            "to-day , i 'll not be a man . ' the world , and , \n",
            "oxford : i 'll not be so , and i 'll be satisfied . ' \n",
            "hitherto 's a matter , and i 'll not be a man . ' the \n",
            "rote : i 'll not be a man . ' the world , and the \n",
            "injured me , my lord , i 'll not be a king , and , \n",
            "guildfords , my lord , i 'll not be a man . ' the world \n",
            "forest , i 'll not be a man . ' the people , and , \n"
          ],
          "name": "stdout"
        }
      ]
    },
    {
      "cell_type": "markdown",
      "metadata": {
        "id": "TExpqlMPU-qF"
      },
      "source": [
        "### 4. Implement a text classification model"
      ]
    },
    {
      "cell_type": "markdown",
      "metadata": {
        "id": "qj64D7QLp20M"
      },
      "source": [
        "Validation accuarcy = 71%"
      ]
    },
    {
      "cell_type": "code",
      "metadata": {
        "id": "-BGZwswwU-qF",
        "scrolled": true,
        "colab": {
          "base_uri": "https://localhost:8080/"
        },
        "outputId": "5943b4b2-39cc-4a52-b42b-1ef6c2699d7b"
      },
      "source": [
        "\"\"\"This code is used to read all news and their labels\"\"\"\n",
        "import os\n",
        "import glob\n",
        "\n",
        "def to_categories(name, cat=[\"politics\",\"rec\",\"comp\",\"religion\"]):\n",
        "    for i in range(len(cat)):\n",
        "        if str.find(name,cat[i])>-1:\n",
        "            return(i)\n",
        "    print(\"Unexpected folder: \" + name) # print the folder name which does not include expected categories\n",
        "    return(\"wth\")\n",
        "\n",
        "def data_loader(images_dir):\n",
        "    categories = os.listdir(data_path)\n",
        "    news = [] # news content\n",
        "    groups = [] # category which it belong to\n",
        "    \n",
        "    for cat in categories:\n",
        "        if(cat[0] != '.'):\n",
        "            print(\"Category:\"+cat)\n",
        "            for the_new_path in glob.glob(data_path + '/' + cat + '/*'):\n",
        "                news.append(open(the_new_path,encoding = \"ISO-8859-1\", mode ='r').read().lower())\n",
        "                groups.append(cat)\n",
        "\n",
        "    return news, list(map(to_categories, groups))\n",
        "\n",
        "\n",
        "data_path = \"20Newsgroups_subsampled\"\n",
        "data_path = colab_path + data_path\n",
        "\n",
        "# news, groups = data_loader(data_path)\n",
        "X, y = data_loader(data_path)"
      ],
      "execution_count": 4,
      "outputs": [
        {
          "output_type": "stream",
          "text": [
            "Category:rec.autos\n",
            "Category:rec.motorcycles\n",
            "Category:talk.politics.mideast\n",
            "Category:rec.sport.hockey\n",
            "Category:talk.politics.misc\n",
            "Category:comp.os.ms-windows.misc\n",
            "Category:comp.graphics\n",
            "Category:comp.windows.x\n",
            "Category:rec.sport.baseball\n",
            "Category:comp.sys.mac.hardware\n",
            "Category:talk.politics.guns\n",
            "Category:soc.religion.christian\n",
            "Category:talk.religion.misc\n",
            "Category:comp.sys.ibm.pc.hardware\n"
          ],
          "name": "stdout"
        }
      ]
    },
    {
      "cell_type": "code",
      "metadata": {
        "colab": {
          "base_uri": "https://localhost:8080/"
        },
        "id": "xSIXt_9ubBbr",
        "outputId": "e37b7085-af96-464b-cca9-68b46e460db2"
      },
      "source": [
        "texts = X\n",
        "labels = y\n",
        "\n",
        "MAX_SEQUENCE_LENGTH = 100 # 250 # max number of words in each text \n",
        "MAX_NB_WORDS = 20000 # Limit the data set to the top MAX_NB_WORDS words\n",
        "\n",
        "tokenizer = Tokenizer(num_words=MAX_NB_WORDS, \n",
        "                     filters='!\"#$%&()*+,-./:;<=>?@[\\\\]^_`{|}~\\t\\n',\n",
        "                     lower = True, split = ' ')\n",
        "\n",
        "tokenizer.fit_on_texts(texts)\n",
        "sequences = tokenizer.texts_to_sequences(texts)\n",
        "ss = tokenizer.sequences_to_texts(sequences)\n",
        "word_index = tokenizer.word_index\n",
        "print('Found %s unique tokens.' % len(word_index))\n",
        "\n",
        "# Truncate and pad the input sequences so that they are all in the same length for modeling\n",
        "data = tf.keras.preprocessing.sequence.pad_sequences(sequences, maxlen=MAX_SEQUENCE_LENGTH, padding=\"post\", truncating = 'post')\n",
        "labels = to_categorical(np.array(labels))\n",
        "\n",
        "print('Shape of data tensor:', data.shape)\n",
        "print('Shape of label tensor:', labels.shape)\n",
        "\n",
        "# Split the data into a training set (90%) and validation set (10%)\n",
        "X_train, X_val, y_train, y_val = train_test_split(data, labels, test_size=0.1, random_state=42)\n",
        "\n",
        "print(X_train.shape,y_train.shape)\n",
        "print(X_val.shape,y_val.shape)\n",
        "\n"
      ],
      "execution_count": 5,
      "outputs": [
        {
          "output_type": "stream",
          "text": [
            "Found 148166 unique tokens.\n",
            "Shape of data tensor: (13109, 100)\n",
            "Shape of label tensor: (13109, 4)\n",
            "(11798, 100) (11798, 4)\n",
            "(1311, 100) (1311, 4)\n"
          ],
          "name": "stdout"
        }
      ]
    },
    {
      "cell_type": "code",
      "metadata": {
        "id": "CTJhOd2YU-qG",
        "colab": {
          "base_uri": "https://localhost:8080/"
        },
        "outputId": "248d41e2-50e5-47c9-9cd8-9382301e171d"
      },
      "source": [
        "num_classes = 4\n",
        "EMBEDDING_DIM = 100\n",
        "\n",
        "model4 = keras.Sequential()\n",
        "model4.add(layers.Embedding(MAX_NB_WORDS, EMBEDDING_DIM, input_length=data.shape[1]))\n",
        "# model4.add(layers.SpatialDropout1D(0.2)) \n",
        "# model4.add(layers.Masking(mask_value=0))\n",
        "model4.add(layers.SimpleRNN(64, activation='sigmoid', dropout=0.1, recurrent_dropout=0.1))\n",
        "# model4.add(layers.Dense(32, activation='relu'))\n",
        "# model4.add(layers.Dropout(0.5))\n",
        "model4.add(layers.Dense(num_classes, activation=\"softmax\"))\n",
        "\n",
        "model4.summary()"
      ],
      "execution_count": 6,
      "outputs": [
        {
          "output_type": "stream",
          "text": [
            "Model: \"sequential\"\n",
            "_________________________________________________________________\n",
            "Layer (type)                 Output Shape              Param #   \n",
            "=================================================================\n",
            "embedding (Embedding)        (None, 100, 100)          2000000   \n",
            "_________________________________________________________________\n",
            "simple_rnn (SimpleRNN)       (None, 64)                10560     \n",
            "_________________________________________________________________\n",
            "dense (Dense)                (None, 4)                 260       \n",
            "=================================================================\n",
            "Total params: 2,010,820\n",
            "Trainable params: 2,010,820\n",
            "Non-trainable params: 0\n",
            "_________________________________________________________________\n"
          ],
          "name": "stdout"
        }
      ]
    },
    {
      "cell_type": "code",
      "metadata": {
        "id": "5qdQjZZEU-qH",
        "scrolled": true,
        "colab": {
          "base_uri": "https://localhost:8080/"
        },
        "outputId": "c34d030c-ab95-4933-dcbc-a0c13d5c0c64"
      },
      "source": [
        "epochs = 50\n",
        "batch_size = 64\n",
        "\n",
        "# opt = keras.optimizers.Adam(learning_rate=0.001)\n",
        "model4.compile(loss=\"categorical_crossentropy\", optimizer=\"adam\", metrics=[\"accuracy\"])\n",
        "history = model4.fit(X_train, y_train, validation_data=(X_val, y_val), epochs=epochs, batch_size=batch_size)  \n",
        "\n",
        "print(\"_________________________________________________________________\")\n",
        "score = model4.evaluate(X_train, y_train, verbose=0)\n",
        "print(\"train loss:\", score[0])\n",
        "print(\"train acc:\", score[1])\n",
        "print(\"_________________________________________________________________\")\n",
        "score = model4.evaluate(X_val, y_val, verbose=0)\n",
        "print(\"val loss:\", score[0])\n",
        "print(\"val acc:\", score[1])"
      ],
      "execution_count": 7,
      "outputs": [
        {
          "output_type": "stream",
          "text": [
            "Epoch 1/50\n",
            "185/185 [==============================] - 28s 131ms/step - loss: 1.3174 - accuracy: 0.3527 - val_loss: 1.2894 - val_accuracy: 0.3806\n",
            "Epoch 2/50\n",
            "185/185 [==============================] - 24s 129ms/step - loss: 1.2488 - accuracy: 0.4400 - val_loss: 1.2684 - val_accuracy: 0.3974\n",
            "Epoch 3/50\n",
            "185/185 [==============================] - 23s 127ms/step - loss: 1.1360 - accuracy: 0.5398 - val_loss: 1.1825 - val_accuracy: 0.4874\n",
            "Epoch 4/50\n",
            "185/185 [==============================] - 24s 127ms/step - loss: 0.9013 - accuracy: 0.6405 - val_loss: 1.3179 - val_accuracy: 0.4676\n",
            "Epoch 5/50\n",
            "185/185 [==============================] - 24s 127ms/step - loss: 0.7831 - accuracy: 0.6883 - val_loss: 2.1379 - val_accuracy: 0.3669\n",
            "Epoch 6/50\n",
            "185/185 [==============================] - 24s 129ms/step - loss: 1.1484 - accuracy: 0.5667 - val_loss: 1.0908 - val_accuracy: 0.5187\n",
            "Epoch 7/50\n",
            "185/185 [==============================] - 23s 127ms/step - loss: 0.7057 - accuracy: 0.7212 - val_loss: 1.0179 - val_accuracy: 0.5477\n",
            "Epoch 8/50\n",
            "185/185 [==============================] - 23s 126ms/step - loss: 0.6297 - accuracy: 0.7389 - val_loss: 1.0318 - val_accuracy: 0.5477\n",
            "Epoch 9/50\n",
            "185/185 [==============================] - 23s 127ms/step - loss: 0.5913 - accuracy: 0.7594 - val_loss: 1.5684 - val_accuracy: 0.4310\n",
            "Epoch 10/50\n",
            "185/185 [==============================] - 24s 128ms/step - loss: 1.0558 - accuracy: 0.5846 - val_loss: 1.2269 - val_accuracy: 0.4783\n",
            "Epoch 11/50\n",
            "185/185 [==============================] - 23s 126ms/step - loss: 0.7113 - accuracy: 0.7151 - val_loss: 1.1886 - val_accuracy: 0.5057\n",
            "Epoch 12/50\n",
            "185/185 [==============================] - 23s 125ms/step - loss: 0.6413 - accuracy: 0.7431 - val_loss: 1.1015 - val_accuracy: 0.5538\n",
            "Epoch 13/50\n",
            "185/185 [==============================] - 24s 128ms/step - loss: 0.5458 - accuracy: 0.7772 - val_loss: 1.1078 - val_accuracy: 0.5515\n",
            "Epoch 14/50\n",
            "185/185 [==============================] - 24s 128ms/step - loss: 0.5290 - accuracy: 0.7887 - val_loss: 1.1527 - val_accuracy: 0.5515\n",
            "Epoch 15/50\n",
            "185/185 [==============================] - 23s 126ms/step - loss: 0.4759 - accuracy: 0.8039 - val_loss: 1.1801 - val_accuracy: 0.5484\n",
            "Epoch 16/50\n",
            "185/185 [==============================] - 23s 126ms/step - loss: 0.5124 - accuracy: 0.7979 - val_loss: 1.2604 - val_accuracy: 0.5034\n",
            "Epoch 17/50\n",
            "185/185 [==============================] - 24s 128ms/step - loss: 0.6118 - accuracy: 0.7604 - val_loss: 1.2345 - val_accuracy: 0.5378\n",
            "Epoch 18/50\n",
            "185/185 [==============================] - 23s 127ms/step - loss: 0.5242 - accuracy: 0.7980 - val_loss: 1.1914 - val_accuracy: 0.5652\n",
            "Epoch 19/50\n",
            "185/185 [==============================] - 23s 126ms/step - loss: 0.4855 - accuracy: 0.8206 - val_loss: 1.1947 - val_accuracy: 0.5805\n",
            "Epoch 20/50\n",
            "185/185 [==============================] - 24s 127ms/step - loss: 0.4617 - accuracy: 0.8261 - val_loss: 1.1947 - val_accuracy: 0.5896\n",
            "Epoch 21/50\n",
            "185/185 [==============================] - 23s 127ms/step - loss: 0.4329 - accuracy: 0.8325 - val_loss: 1.1771 - val_accuracy: 0.5995\n",
            "Epoch 22/50\n",
            "185/185 [==============================] - 23s 126ms/step - loss: 0.3969 - accuracy: 0.8504 - val_loss: 1.1698 - val_accuracy: 0.6018\n",
            "Epoch 23/50\n",
            "185/185 [==============================] - 24s 127ms/step - loss: 0.3728 - accuracy: 0.8585 - val_loss: 1.1852 - val_accuracy: 0.6102\n",
            "Epoch 24/50\n",
            "185/185 [==============================] - 23s 127ms/step - loss: 0.3693 - accuracy: 0.8598 - val_loss: 1.1857 - val_accuracy: 0.6255\n",
            "Epoch 25/50\n",
            "185/185 [==============================] - 23s 126ms/step - loss: 0.3555 - accuracy: 0.8645 - val_loss: 1.3171 - val_accuracy: 0.6232\n",
            "Epoch 26/50\n",
            "185/185 [==============================] - 23s 127ms/step - loss: 0.7091 - accuracy: 0.7387 - val_loss: 1.2477 - val_accuracy: 0.5774\n",
            "Epoch 27/50\n",
            "185/185 [==============================] - 23s 127ms/step - loss: 0.4297 - accuracy: 0.8404 - val_loss: 1.1492 - val_accuracy: 0.6339\n",
            "Epoch 28/50\n",
            "185/185 [==============================] - 23s 125ms/step - loss: 0.3059 - accuracy: 0.8859 - val_loss: 1.1116 - val_accuracy: 0.6499\n",
            "Epoch 29/50\n",
            "185/185 [==============================] - 23s 126ms/step - loss: 0.4623 - accuracy: 0.8447 - val_loss: 1.1577 - val_accuracy: 0.6407\n",
            "Epoch 30/50\n",
            "185/185 [==============================] - 23s 126ms/step - loss: 0.3715 - accuracy: 0.8641 - val_loss: 1.1137 - val_accuracy: 0.6537\n",
            "Epoch 31/50\n",
            "185/185 [==============================] - 24s 127ms/step - loss: 0.2899 - accuracy: 0.8908 - val_loss: 1.0921 - val_accuracy: 0.6751\n",
            "Epoch 32/50\n",
            "185/185 [==============================] - 23s 125ms/step - loss: 0.2734 - accuracy: 0.8902 - val_loss: 1.1245 - val_accuracy: 0.6766\n",
            "Epoch 33/50\n",
            "185/185 [==============================] - 23s 126ms/step - loss: 0.2702 - accuracy: 0.9016 - val_loss: 1.1236 - val_accuracy: 0.6629\n",
            "Epoch 34/50\n",
            "185/185 [==============================] - 24s 127ms/step - loss: 0.3554 - accuracy: 0.8742 - val_loss: 1.1978 - val_accuracy: 0.6240\n",
            "Epoch 35/50\n",
            "185/185 [==============================] - 23s 126ms/step - loss: 0.3485 - accuracy: 0.8721 - val_loss: 1.1785 - val_accuracy: 0.6415\n",
            "Epoch 36/50\n",
            "185/185 [==============================] - 24s 128ms/step - loss: 0.3313 - accuracy: 0.8808 - val_loss: 1.2048 - val_accuracy: 0.6522\n",
            "Epoch 37/50\n",
            "185/185 [==============================] - 23s 126ms/step - loss: 0.3115 - accuracy: 0.8881 - val_loss: 1.1647 - val_accuracy: 0.6621\n",
            "Epoch 38/50\n",
            "185/185 [==============================] - 23s 126ms/step - loss: 0.3007 - accuracy: 0.8910 - val_loss: 1.1714 - val_accuracy: 0.6758\n",
            "Epoch 39/50\n",
            "185/185 [==============================] - 24s 129ms/step - loss: 0.2985 - accuracy: 0.8860 - val_loss: 1.1770 - val_accuracy: 0.6979\n",
            "Epoch 40/50\n",
            "185/185 [==============================] - 24s 128ms/step - loss: 0.3539 - accuracy: 0.8862 - val_loss: 1.1628 - val_accuracy: 0.6491\n",
            "Epoch 41/50\n",
            "185/185 [==============================] - 24s 129ms/step - loss: 0.3312 - accuracy: 0.8859 - val_loss: 1.1732 - val_accuracy: 0.6384\n",
            "Epoch 42/50\n",
            "185/185 [==============================] - 24s 128ms/step - loss: 0.3272 - accuracy: 0.8778 - val_loss: 1.1765 - val_accuracy: 0.6514\n",
            "Epoch 43/50\n",
            "185/185 [==============================] - 24s 128ms/step - loss: 0.2951 - accuracy: 0.8878 - val_loss: 1.2283 - val_accuracy: 0.6796\n",
            "Epoch 44/50\n",
            "185/185 [==============================] - 23s 127ms/step - loss: 0.2736 - accuracy: 0.8993 - val_loss: 1.1792 - val_accuracy: 0.6705\n",
            "Epoch 45/50\n",
            "185/185 [==============================] - 24s 129ms/step - loss: 0.2773 - accuracy: 0.8876 - val_loss: 1.1554 - val_accuracy: 0.6667\n",
            "Epoch 46/50\n",
            "185/185 [==============================] - 24s 130ms/step - loss: 0.2694 - accuracy: 0.8980 - val_loss: 1.2395 - val_accuracy: 0.6552\n",
            "Epoch 47/50\n",
            "185/185 [==============================] - 24s 129ms/step - loss: 0.3068 - accuracy: 0.9095 - val_loss: 1.1428 - val_accuracy: 0.7040\n",
            "Epoch 48/50\n",
            "185/185 [==============================] - 24s 127ms/step - loss: 0.3107 - accuracy: 0.9175 - val_loss: 1.1290 - val_accuracy: 0.6621\n",
            "Epoch 49/50\n",
            "185/185 [==============================] - 24s 128ms/step - loss: 0.4240 - accuracy: 0.8798 - val_loss: 1.0765 - val_accuracy: 0.6880\n",
            "Epoch 50/50\n",
            "185/185 [==============================] - 24s 128ms/step - loss: 0.3371 - accuracy: 0.9103 - val_loss: 1.0277 - val_accuracy: 0.7162\n",
            "_________________________________________________________________\n",
            "train loss: 0.27027004957199097\n",
            "train acc: 0.9358365535736084\n",
            "_________________________________________________________________\n",
            "val loss: 1.027727723121643\n",
            "val acc: 0.7162471413612366\n"
          ],
          "name": "stdout"
        }
      ]
    },
    {
      "cell_type": "code",
      "metadata": {
        "id": "gwp_r7i9U-qJ",
        "colab": {
          "base_uri": "https://localhost:8080/",
          "height": 463
        },
        "outputId": "5710ef00-75ae-4407-d7b7-4650cbe5fc1d"
      },
      "source": [
        "plt.figure(figsize =(5,3))\n",
        "plt.plot(history.history['loss'], label='train')\n",
        "plt.plot(history.history['val_loss'], label='validation')\n",
        "plt.title('Loss')\n",
        "plt.xlabel('epoch')\n",
        "plt.ylabel('loss')\n",
        "plt.legend(loc='best')\n",
        "plt.show()\n",
        "\n",
        "plt.figure(figsize =(5,3))\n",
        "plt.plot(history.history['accuracy'], label='train')\n",
        "plt.plot(history.history['val_accuracy'], label='validation')\n",
        "plt.title('Accuracy')\n",
        "plt.xlabel('epoch')\n",
        "plt.ylabel('accuracy')\n",
        "plt.legend(loc='best')\n",
        "plt.show()"
      ],
      "execution_count": 8,
      "outputs": [
        {
          "output_type": "display_data",
          "data": {
            "image/png": "[encoded data removed]",
            "text/plain": [
              "<Figure size 360x216 with 1 Axes>"
            ]
          },
          "metadata": {
            "tags": [],
            "needs_background": "light"
          }
        },
        {
          "output_type": "display_data",
          "data": {
            "image/png": "[encoded data removed]",
            "text/plain": [
              "<Figure size 360x216 with 1 Axes>"
            ]
          },
          "metadata": {
            "tags": [],
            "needs_background": "light"
          }
        }
      ]
    }
  ]
}